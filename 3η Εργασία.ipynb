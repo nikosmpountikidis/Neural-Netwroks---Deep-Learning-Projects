{
 "cells": [
  {
   "cell_type": "code",
   "execution_count": 1,
   "id": "650e6f62",
   "metadata": {},
   "outputs": [],
   "source": [
    "from keras.datasets import mnist\n",
    "import numpy as np"
   ]
  },
  {
   "cell_type": "code",
   "execution_count": 2,
   "id": "48c10749",
   "metadata": {},
   "outputs": [],
   "source": [
    "(x_train, y_train), (x_test, y_test) = mnist.load_data()"
   ]
  },
  {
   "cell_type": "code",
   "execution_count": 3,
   "id": "ade7a9d9",
   "metadata": {},
   "outputs": [
    {
     "name": "stdout",
     "output_type": "stream",
     "text": [
      "(60000, 28, 28) (60000,) (10000, 28, 28) (10000,)\n"
     ]
    }
   ],
   "source": [
    "print(x_train.shape, y_train.shape, x_test.shape, y_test.shape)"
   ]
  },
  {
   "cell_type": "code",
   "execution_count": 4,
   "id": "5bbdeb09",
   "metadata": {},
   "outputs": [
    {
     "name": "stdout",
     "output_type": "stream",
     "text": [
      "[5 0 4 1 9 2 1 3 1 4 3 5 3 6 1 7 2 8 6 9 4 0 9 1 1 2 4 3 2 7 3 8 6 9 0 5 6\n",
      " 0 7 6 1 8 7 9 3 9 8 5 9 3 3 0 7 4 9 8 0 9 4 1 4 4 6 0 4 5 6 1 0 0 1 7 1 6\n",
      " 3 0 2 1 1 7 9 0 2 6 7 8 3 9 0 4 6 7 4 6 8 0 7 8 3 1]\n"
     ]
    }
   ],
   "source": [
    "print(y_train[0:100])"
   ]
  },
  {
   "cell_type": "code",
   "execution_count": 5,
   "id": "e4ef1373",
   "metadata": {},
   "outputs": [
    {
     "name": "stdout",
     "output_type": "stream",
     "text": [
      "[7 2 1 0 4 1 4 9 5 9 0 6 9 0 1 5 9 7 3 4 9 6 6 5 4 0 7 4 0 1 3 1 3 4 7 2 7\n",
      " 1 2 1 1 7 4 2 3 5 1 2 4 4 6 3 5 5 6 0 4 1 9 5 7 8 9 3 7 4 6 4 3 0 7 0 2 9\n",
      " 1 7 3 2 9 7 7 6 2 7 8 4 7 3 6 1 3 6 9 3 1 4 1 7 6 9]\n"
     ]
    }
   ],
   "source": [
    "print(y_test[0:100])"
   ]
  },
  {
   "cell_type": "markdown",
   "id": "ed9587e4",
   "metadata": {},
   "source": [
    "# Normalize the numbers to values 0-1"
   ]
  },
  {
   "cell_type": "code",
   "execution_count": 6,
   "id": "6e4ceb18",
   "metadata": {},
   "outputs": [],
   "source": [
    "x_train = x_train/255.0\n",
    "x_test = x_test/255.0"
   ]
  },
  {
   "cell_type": "code",
   "execution_count": 7,
   "id": "238ef5b6",
   "metadata": {},
   "outputs": [
    {
     "name": "stdout",
     "output_type": "stream",
     "text": [
      "0.0 1.0\n",
      "0.0 1.0\n"
     ]
    }
   ],
   "source": [
    "print(np.min(x_test), np.max(x_test))\n",
    "print(np.min(x_train), np.max(x_train))"
   ]
  },
  {
   "cell_type": "markdown",
   "id": "8bcff76a",
   "metadata": {},
   "source": [
    "# Reshape data from 3-D to 2-D"
   ]
  },
  {
   "cell_type": "code",
   "execution_count": 8,
   "id": "b838d56d",
   "metadata": {},
   "outputs": [
    {
     "name": "stdout",
     "output_type": "stream",
     "text": [
      "(60000, 784)\n",
      "(10000, 784)\n"
     ]
    }
   ],
   "source": [
    "x_train = x_train.reshape(x_train.shape[0], 784)\n",
    "x_test = x_test.reshape(x_test.shape[0], 784)\n",
    "print(x_train.shape)\n",
    "print(x_test.shape)"
   ]
  },
  {
   "cell_type": "code",
   "execution_count": 9,
   "id": "9efe1732",
   "metadata": {},
   "outputs": [],
   "source": [
    "from sklearn.svm import SVC\n",
    "import time"
   ]
  },
  {
   "cell_type": "markdown",
   "id": "bd091c13",
   "metadata": {},
   "source": [
    "# For C=1, \"One vs Rest\" and Gamma=[0.01-100]"
   ]
  },
  {
   "cell_type": "code",
   "execution_count": 10,
   "id": "ebf21619",
   "metadata": {},
   "outputs": [
    {
     "name": "stderr",
     "output_type": "stream",
     "text": [
      "C:\\Users\\nikos\\anaconda3\\lib\\site-packages\\sklearn\\svm\\_base.py:284: ConvergenceWarning: Solver terminated early (max_iter=100).  Consider pre-processing your data with StandardScaler or MinMaxScaler.\n",
      "  warnings.warn(\n"
     ]
    },
    {
     "name": "stdout",
     "output_type": "stream",
     "text": [
      "Model trained in  71.59669232368469  seconds\n",
      "Train Accuracy:  90.96166666666666\n",
      "Test Accuracy:  90.35\n"
     ]
    },
    {
     "name": "stderr",
     "output_type": "stream",
     "text": [
      "C:\\Users\\nikos\\anaconda3\\lib\\site-packages\\sklearn\\svm\\_base.py:284: ConvergenceWarning: Solver terminated early (max_iter=100).  Consider pre-processing your data with StandardScaler or MinMaxScaler.\n",
      "  warnings.warn(\n"
     ]
    },
    {
     "name": "stdout",
     "output_type": "stream",
     "text": [
      "Model trained in  70.54242086410522  seconds\n",
      "Train Accuracy:  96.17833333333333\n",
      "Test Accuracy:  94.27\n"
     ]
    },
    {
     "name": "stderr",
     "output_type": "stream",
     "text": [
      "C:\\Users\\nikos\\anaconda3\\lib\\site-packages\\sklearn\\svm\\_base.py:284: ConvergenceWarning: Solver terminated early (max_iter=100).  Consider pre-processing your data with StandardScaler or MinMaxScaler.\n",
      "  warnings.warn(\n"
     ]
    },
    {
     "name": "stdout",
     "output_type": "stream",
     "text": [
      "Model trained in  90.22430086135864  seconds\n",
      "Train Accuracy:  71.10333333333332\n",
      "Test Accuracy:  69.67999999999999\n"
     ]
    },
    {
     "name": "stderr",
     "output_type": "stream",
     "text": [
      "C:\\Users\\nikos\\anaconda3\\lib\\site-packages\\sklearn\\svm\\_base.py:284: ConvergenceWarning: Solver terminated early (max_iter=100).  Consider pre-processing your data with StandardScaler or MinMaxScaler.\n",
      "  warnings.warn(\n"
     ]
    },
    {
     "name": "stdout",
     "output_type": "stream",
     "text": [
      "Model trained in  102.66801691055298  seconds\n",
      "Train Accuracy:  82.74000000000001\n",
      "Test Accuracy:  83.55\n"
     ]
    },
    {
     "name": "stderr",
     "output_type": "stream",
     "text": [
      "C:\\Users\\nikos\\anaconda3\\lib\\site-packages\\sklearn\\svm\\_base.py:284: ConvergenceWarning: Solver terminated early (max_iter=100).  Consider pre-processing your data with StandardScaler or MinMaxScaler.\n",
      "  warnings.warn(\n"
     ]
    },
    {
     "name": "stdout",
     "output_type": "stream",
     "text": [
      "Model trained in  100.59214401245117  seconds\n",
      "Train Accuracy:  15.488333333333335\n",
      "Test Accuracy:  13.950000000000001\n"
     ]
    }
   ],
   "source": [
    "for gamma in [0.01, 0.1, 1, 10, 100]:\n",
    "    rbf_svm = SVC(C=1,kernel='rbf', gamma=gamma,decision_function_shape='ovr', max_iter=100)\n",
    "    start = time.time()\n",
    "    rbf_svm.fit(x_train, y_train)\n",
    "    end = time.time()\n",
    "    print('Model trained in ',end-start,' seconds')\n",
    "    print('Train Accuracy: ',rbf_svm.score(x_train, y_train)*100)\n",
    "    print('Test Accuracy: ',rbf_svm.score(x_test, y_test)*100)"
   ]
  },
  {
   "cell_type": "markdown",
   "id": "f9324e47",
   "metadata": {},
   "source": [
    "# For C=10, \"One vs Rest\" and Gamma=[0.01-100]"
   ]
  },
  {
   "cell_type": "code",
   "execution_count": 11,
   "id": "33929f02",
   "metadata": {},
   "outputs": [
    {
     "name": "stderr",
     "output_type": "stream",
     "text": [
      "C:\\Users\\nikos\\anaconda3\\lib\\site-packages\\sklearn\\svm\\_base.py:284: ConvergenceWarning: Solver terminated early (max_iter=100).  Consider pre-processing your data with StandardScaler or MinMaxScaler.\n",
      "  warnings.warn(\n"
     ]
    },
    {
     "name": "stdout",
     "output_type": "stream",
     "text": [
      "Model trained in  60.94491672515869  seconds\n",
      "Train Accuracy:  95.36166666666666\n",
      "Test Accuracy:  94.33\n"
     ]
    },
    {
     "name": "stderr",
     "output_type": "stream",
     "text": [
      "C:\\Users\\nikos\\anaconda3\\lib\\site-packages\\sklearn\\svm\\_base.py:284: ConvergenceWarning: Solver terminated early (max_iter=100).  Consider pre-processing your data with StandardScaler or MinMaxScaler.\n",
      "  warnings.warn(\n"
     ]
    },
    {
     "name": "stdout",
     "output_type": "stream",
     "text": [
      "Model trained in  69.66627788543701  seconds\n",
      "Train Accuracy:  95.06166666666667\n",
      "Test Accuracy:  93.65\n"
     ]
    },
    {
     "name": "stderr",
     "output_type": "stream",
     "text": [
      "C:\\Users\\nikos\\anaconda3\\lib\\site-packages\\sklearn\\svm\\_base.py:284: ConvergenceWarning: Solver terminated early (max_iter=100).  Consider pre-processing your data with StandardScaler or MinMaxScaler.\n",
      "  warnings.warn(\n"
     ]
    },
    {
     "name": "stdout",
     "output_type": "stream",
     "text": [
      "Model trained in  73.49438738822937  seconds\n",
      "Train Accuracy:  32.65\n",
      "Test Accuracy:  31.319999999999997\n"
     ]
    },
    {
     "name": "stderr",
     "output_type": "stream",
     "text": [
      "C:\\Users\\nikos\\anaconda3\\lib\\site-packages\\sklearn\\svm\\_base.py:284: ConvergenceWarning: Solver terminated early (max_iter=100).  Consider pre-processing your data with StandardScaler or MinMaxScaler.\n",
      "  warnings.warn(\n"
     ]
    },
    {
     "name": "stdout",
     "output_type": "stream",
     "text": [
      "Model trained in  77.9779851436615  seconds\n",
      "Train Accuracy:  37.12\n",
      "Test Accuracy:  36.04\n"
     ]
    },
    {
     "name": "stderr",
     "output_type": "stream",
     "text": [
      "C:\\Users\\nikos\\anaconda3\\lib\\site-packages\\sklearn\\svm\\_base.py:284: ConvergenceWarning: Solver terminated early (max_iter=100).  Consider pre-processing your data with StandardScaler or MinMaxScaler.\n",
      "  warnings.warn(\n"
     ]
    },
    {
     "name": "stdout",
     "output_type": "stream",
     "text": [
      "Model trained in  81.5313310623169  seconds\n",
      "Train Accuracy:  15.488333333333335\n",
      "Test Accuracy:  13.950000000000001\n"
     ]
    }
   ],
   "source": [
    "for gamma in [0.01, 0.1, 1, 10, 100]:\n",
    "    rbf_svm = SVC(C=10,kernel='rbf', gamma=gamma,decision_function_shape='ovr', max_iter=100)\n",
    "    start = time.time()\n",
    "    rbf_svm.fit(x_train, y_train)\n",
    "    end = time.time()\n",
    "    print('Model trained in ',end-start,' seconds')\n",
    "    print('Train Accuracy: ',rbf_svm.score(x_train, y_train)*100)\n",
    "    print('Test Accuracy: ',rbf_svm.score(x_test, y_test)*100)"
   ]
  },
  {
   "cell_type": "markdown",
   "id": "24a334e1",
   "metadata": {},
   "source": [
    "# For C=0.1, \"One vs Rest\" and Gamma=[0.01-100]"
   ]
  },
  {
   "cell_type": "code",
   "execution_count": 12,
   "id": "4a217d32",
   "metadata": {},
   "outputs": [
    {
     "name": "stderr",
     "output_type": "stream",
     "text": [
      "C:\\Users\\nikos\\anaconda3\\lib\\site-packages\\sklearn\\svm\\_base.py:284: ConvergenceWarning: Solver terminated early (max_iter=100).  Consider pre-processing your data with StandardScaler or MinMaxScaler.\n",
      "  warnings.warn(\n"
     ]
    },
    {
     "name": "stdout",
     "output_type": "stream",
     "text": [
      "Model trained in  69.80849552154541  seconds\n",
      "Train Accuracy:  69.61333333333334\n",
      "Test Accuracy:  69.94\n"
     ]
    },
    {
     "name": "stderr",
     "output_type": "stream",
     "text": [
      "C:\\Users\\nikos\\anaconda3\\lib\\site-packages\\sklearn\\svm\\_base.py:284: ConvergenceWarning: Solver terminated early (max_iter=100).  Consider pre-processing your data with StandardScaler or MinMaxScaler.\n",
      "  warnings.warn(\n"
     ]
    },
    {
     "name": "stdout",
     "output_type": "stream",
     "text": [
      "Model trained in  74.98082661628723  seconds\n",
      "Train Accuracy:  90.72166666666666\n",
      "Test Accuracy:  89.59\n"
     ]
    },
    {
     "name": "stderr",
     "output_type": "stream",
     "text": [
      "C:\\Users\\nikos\\anaconda3\\lib\\site-packages\\sklearn\\svm\\_base.py:284: ConvergenceWarning: Solver terminated early (max_iter=100).  Consider pre-processing your data with StandardScaler or MinMaxScaler.\n",
      "  warnings.warn(\n"
     ]
    },
    {
     "name": "stdout",
     "output_type": "stream",
     "text": [
      "Model trained in  72.96456503868103  seconds\n",
      "Train Accuracy:  66.37833333333333\n",
      "Test Accuracy:  65.27\n"
     ]
    },
    {
     "name": "stderr",
     "output_type": "stream",
     "text": [
      "C:\\Users\\nikos\\anaconda3\\lib\\site-packages\\sklearn\\svm\\_base.py:284: ConvergenceWarning: Solver terminated early (max_iter=100).  Consider pre-processing your data with StandardScaler or MinMaxScaler.\n",
      "  warnings.warn(\n"
     ]
    },
    {
     "name": "stdout",
     "output_type": "stream",
     "text": [
      "Model trained in  86.94206213951111  seconds\n",
      "Train Accuracy:  82.73\n",
      "Test Accuracy:  83.54\n"
     ]
    },
    {
     "name": "stderr",
     "output_type": "stream",
     "text": [
      "C:\\Users\\nikos\\anaconda3\\lib\\site-packages\\sklearn\\svm\\_base.py:284: ConvergenceWarning: Solver terminated early (max_iter=100).  Consider pre-processing your data with StandardScaler or MinMaxScaler.\n",
      "  warnings.warn(\n"
     ]
    },
    {
     "name": "stdout",
     "output_type": "stream",
     "text": [
      "Model trained in  87.3177433013916  seconds\n",
      "Train Accuracy:  15.479999999999999\n",
      "Test Accuracy:  13.930000000000001\n"
     ]
    }
   ],
   "source": [
    "for gamma in [0.01, 0.1, 1, 10, 100]:\n",
    "    rbf_svm = SVC(C=0.1,kernel='rbf', gamma=gamma,decision_function_shape='ovr', max_iter=100)\n",
    "    start = time.time()\n",
    "    rbf_svm.fit(x_train, y_train)\n",
    "    end = time.time()\n",
    "    print('Model trained in ',end-start,' seconds')\n",
    "    print('Train Accuracy: ',rbf_svm.score(x_train, y_train)*100)\n",
    "    print('Test Accuracy: ',rbf_svm.score(x_test, y_test)*100)"
   ]
  },
  {
   "cell_type": "markdown",
   "id": "46d90086",
   "metadata": {},
   "source": [
    "# For C=1, \"One vs One\" and Gamma=[0.01-100]"
   ]
  },
  {
   "cell_type": "code",
   "execution_count": 13,
   "id": "2fe02265",
   "metadata": {},
   "outputs": [
    {
     "name": "stderr",
     "output_type": "stream",
     "text": [
      "C:\\Users\\nikos\\anaconda3\\lib\\site-packages\\sklearn\\svm\\_base.py:284: ConvergenceWarning: Solver terminated early (max_iter=100).  Consider pre-processing your data with StandardScaler or MinMaxScaler.\n",
      "  warnings.warn(\n"
     ]
    },
    {
     "name": "stdout",
     "output_type": "stream",
     "text": [
      "Model trained in  73.06497406959534  seconds\n",
      "Train Accuracy:  90.96166666666666\n",
      "Test Accuracy:  90.35\n"
     ]
    },
    {
     "name": "stderr",
     "output_type": "stream",
     "text": [
      "C:\\Users\\nikos\\anaconda3\\lib\\site-packages\\sklearn\\svm\\_base.py:284: ConvergenceWarning: Solver terminated early (max_iter=100).  Consider pre-processing your data with StandardScaler or MinMaxScaler.\n",
      "  warnings.warn(\n"
     ]
    },
    {
     "name": "stdout",
     "output_type": "stream",
     "text": [
      "Model trained in  69.74549436569214  seconds\n",
      "Train Accuracy:  96.17833333333333\n",
      "Test Accuracy:  94.27\n"
     ]
    },
    {
     "name": "stderr",
     "output_type": "stream",
     "text": [
      "C:\\Users\\nikos\\anaconda3\\lib\\site-packages\\sklearn\\svm\\_base.py:284: ConvergenceWarning: Solver terminated early (max_iter=100).  Consider pre-processing your data with StandardScaler or MinMaxScaler.\n",
      "  warnings.warn(\n"
     ]
    },
    {
     "name": "stdout",
     "output_type": "stream",
     "text": [
      "Model trained in  70.0666983127594  seconds\n",
      "Train Accuracy:  71.10333333333332\n",
      "Test Accuracy:  69.67999999999999\n"
     ]
    },
    {
     "name": "stderr",
     "output_type": "stream",
     "text": [
      "C:\\Users\\nikos\\anaconda3\\lib\\site-packages\\sklearn\\svm\\_base.py:284: ConvergenceWarning: Solver terminated early (max_iter=100).  Consider pre-processing your data with StandardScaler or MinMaxScaler.\n",
      "  warnings.warn(\n"
     ]
    },
    {
     "name": "stdout",
     "output_type": "stream",
     "text": [
      "Model trained in  77.566321849823  seconds\n",
      "Train Accuracy:  82.74000000000001\n",
      "Test Accuracy:  83.55\n"
     ]
    },
    {
     "name": "stderr",
     "output_type": "stream",
     "text": [
      "C:\\Users\\nikos\\anaconda3\\lib\\site-packages\\sklearn\\svm\\_base.py:284: ConvergenceWarning: Solver terminated early (max_iter=100).  Consider pre-processing your data with StandardScaler or MinMaxScaler.\n",
      "  warnings.warn(\n"
     ]
    },
    {
     "name": "stdout",
     "output_type": "stream",
     "text": [
      "Model trained in  79.84221649169922  seconds\n",
      "Train Accuracy:  15.488333333333335\n",
      "Test Accuracy:  13.950000000000001\n"
     ]
    }
   ],
   "source": [
    "for gamma in [0.01, 0.1, 1, 10, 100]:\n",
    "    rbf_svm = SVC(C=1,kernel='rbf', gamma=gamma,decision_function_shape='ovo', max_iter=100)\n",
    "    start = time.time()\n",
    "    rbf_svm.fit(x_train, y_train)\n",
    "    end = time.time()\n",
    "    print('Model trained in ',end-start,' seconds')\n",
    "    print('Train Accuracy: ',rbf_svm.score(x_train, y_train)*100)\n",
    "    print('Test Accuracy: ',rbf_svm.score(x_test, y_test)*100)"
   ]
  },
  {
   "cell_type": "code",
   "execution_count": null,
   "id": "d2069f7e",
   "metadata": {},
   "outputs": [],
   "source": []
  }
 ],
 "metadata": {
  "kernelspec": {
   "display_name": "Python 3 (ipykernel)",
   "language": "python",
   "name": "python3"
  },
  "language_info": {
   "codemirror_mode": {
    "name": "ipython",
    "version": 3
   },
   "file_extension": ".py",
   "mimetype": "text/x-python",
   "name": "python",
   "nbconvert_exporter": "python",
   "pygments_lexer": "ipython3",
   "version": "3.9.13"
  }
 },
 "nbformat": 4,
 "nbformat_minor": 5
}
