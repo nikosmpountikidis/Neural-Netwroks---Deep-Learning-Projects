{
 "cells": [
  {
   "cell_type": "code",
   "execution_count": 1,
   "id": "9e2fd781",
   "metadata": {},
   "outputs": [],
   "source": [
    "from keras.datasets import mnist\n",
    "import numpy as np"
   ]
  },
  {
   "cell_type": "code",
   "execution_count": 2,
   "id": "d0228bdf",
   "metadata": {},
   "outputs": [],
   "source": [
    "(x_train, y_train), (x_test, y_test) = mnist.load_data()"
   ]
  },
  {
   "cell_type": "code",
   "execution_count": 3,
   "id": "32a9d646",
   "metadata": {},
   "outputs": [
    {
     "name": "stdout",
     "output_type": "stream",
     "text": [
      "(60000, 28, 28) (60000,) (10000, 28, 28) (10000,)\n"
     ]
    }
   ],
   "source": [
    "print(x_train.shape, y_train.shape, x_test.shape, y_test.shape)\n"
   ]
  },
  {
   "cell_type": "markdown",
   "id": "d73bb20a",
   "metadata": {},
   "source": [
    "# Classify the labels to odd and even, with 0 representig even and 1 odd"
   ]
  },
  {
   "cell_type": "code",
   "execution_count": 4,
   "id": "2486049d",
   "metadata": {},
   "outputs": [],
   "source": [
    "for i in range (60000):\n",
    "   if y_train[i] % 2 == 0:\n",
    "    y_train[i] = 0\n",
    "   else:\n",
    "    y_train[i] = 1\n",
    "        "
   ]
  },
  {
   "cell_type": "code",
   "execution_count": 5,
   "id": "94dae775",
   "metadata": {},
   "outputs": [
    {
     "name": "stdout",
     "output_type": "stream",
     "text": [
      "[1 0 0 1 1 0 1 1 1 0 1 1 1 0 1 1 0 0 0 1 0 0 1 1 1 0 0 1 0 1 1 0 0 1 0 1 0\n",
      " 0 1 0 1 0 1 1 1 1 0 1 1 1 1 0 1 0 1 0 0 1 0 1 0 0 0 0 0 1 0 1 0 0 1 1 1 0\n",
      " 1 0 0 1 1 1 1 0 0 0 1 0 1 1 0 0 0 1 0 0 0 0 1 0 1 1]\n"
     ]
    }
   ],
   "source": [
    "print(y_train[0:100])"
   ]
  },
  {
   "cell_type": "code",
   "execution_count": 6,
   "id": "f41bfd5d",
   "metadata": {},
   "outputs": [],
   "source": [
    "for i in range (10000):\n",
    "   if y_test[i] % 2 == 0:\n",
    "    y_test[i] = 0\n",
    "   else:\n",
    "    y_test[i] = 1"
   ]
  },
  {
   "cell_type": "code",
   "execution_count": 7,
   "id": "5231ed5c",
   "metadata": {},
   "outputs": [
    {
     "name": "stdout",
     "output_type": "stream",
     "text": [
      "[1 0 1 0 0 1 0 1 1 1 0 0 1 0 1 1 1 1 1 0 1 0 0 1 0 0 1 0 0 1 1 1 1 0 1 0 1\n",
      " 1 0 1 1 1 0 0 1 1 1 0 0 0 0 1 1 1 0 0 0 1 1 1 1 0 1 1 1 0 0 0 1 0 1 0 0 1\n",
      " 1 1 1 0 1 1 1 0 0 1 0 0 1 1 0 1 1 0 1 1 1 0 1 1 0 1]\n"
     ]
    }
   ],
   "source": [
    "print(y_test[0:100])"
   ]
  },
  {
   "cell_type": "markdown",
   "id": "74638ac0",
   "metadata": {},
   "source": [
    "# Normalize the numbers to values 0-1"
   ]
  },
  {
   "cell_type": "code",
   "execution_count": 8,
   "id": "75d6a954",
   "metadata": {},
   "outputs": [],
   "source": [
    "x_train = x_train/255.0\n",
    "x_test = x_test/255.0"
   ]
  },
  {
   "cell_type": "code",
   "execution_count": 9,
   "id": "46269375",
   "metadata": {},
   "outputs": [
    {
     "name": "stdout",
     "output_type": "stream",
     "text": [
      "0.0 1.0\n",
      "0.0 1.0\n"
     ]
    }
   ],
   "source": [
    "print(np.min(x_test), np.max(x_test))\n",
    "print(np.min(x_train), np.max(x_train))\n"
   ]
  },
  {
   "cell_type": "markdown",
   "id": "5b13f267",
   "metadata": {},
   "source": [
    "# Reshape data from 3-D to 2-D"
   ]
  },
  {
   "cell_type": "code",
   "execution_count": 17,
   "id": "74d2e9a0",
   "metadata": {},
   "outputs": [
    {
     "name": "stdout",
     "output_type": "stream",
     "text": [
      "(60000, 784)\n",
      "(10000, 784)\n"
     ]
    }
   ],
   "source": [
    "x_train = x_train.reshape(x_train.shape[0], 784)\n",
    "x_test = x_test.reshape(x_test.shape[0], 784)\n",
    "print(x_train.shape)\n",
    "print(x_test.shape)"
   ]
  },
  {
   "cell_type": "markdown",
   "id": "8bb335c1",
   "metadata": {},
   "source": [
    "# Linear Implementation"
   ]
  },
  {
   "cell_type": "code",
   "execution_count": 18,
   "id": "5ed25bff",
   "metadata": {},
   "outputs": [],
   "source": [
    "from sklearn.svm import LinearSVC"
   ]
  },
  {
   "cell_type": "code",
   "execution_count": 19,
   "id": "f506b8a3",
   "metadata": {},
   "outputs": [],
   "source": [
    "linear_svm = LinearSVC(loss='hinge',C=1)"
   ]
  },
  {
   "cell_type": "code",
   "execution_count": 20,
   "id": "acdb4da2",
   "metadata": {},
   "outputs": [],
   "source": [
    "import time"
   ]
  },
  {
   "cell_type": "code",
   "execution_count": 21,
   "id": "bdc6bdd6",
   "metadata": {},
   "outputs": [
    {
     "name": "stderr",
     "output_type": "stream",
     "text": [
      "C:\\Users\\nikos\\anaconda3\\lib\\site-packages\\sklearn\\svm\\_base.py:1206: ConvergenceWarning: Liblinear failed to converge, increase the number of iterations.\n",
      "  warnings.warn(\n"
     ]
    },
    {
     "name": "stdout",
     "output_type": "stream",
     "text": [
      "Model trained in  0.861072301864624  seconds\n",
      "Train Accuracy:  90.15333333333334\n",
      "Test Accuracy:  90.08\n"
     ]
    },
    {
     "name": "stderr",
     "output_type": "stream",
     "text": [
      "C:\\Users\\nikos\\anaconda3\\lib\\site-packages\\sklearn\\svm\\_base.py:1206: ConvergenceWarning: Liblinear failed to converge, increase the number of iterations.\n",
      "  warnings.warn(\n"
     ]
    },
    {
     "name": "stdout",
     "output_type": "stream",
     "text": [
      "Model trained in  2.6061716079711914  seconds\n",
      "Train Accuracy:  90.62166666666667\n",
      "Test Accuracy:  90.39\n"
     ]
    },
    {
     "name": "stderr",
     "output_type": "stream",
     "text": [
      "C:\\Users\\nikos\\anaconda3\\lib\\site-packages\\sklearn\\svm\\_base.py:1206: ConvergenceWarning: Liblinear failed to converge, increase the number of iterations.\n",
      "  warnings.warn(\n"
     ]
    },
    {
     "name": "stdout",
     "output_type": "stream",
     "text": [
      "Model trained in  12.805300235748291  seconds\n",
      "Train Accuracy:  90.69\n",
      "Test Accuracy:  90.42999999999999\n"
     ]
    },
    {
     "name": "stderr",
     "output_type": "stream",
     "text": [
      "C:\\Users\\nikos\\anaconda3\\lib\\site-packages\\sklearn\\svm\\_base.py:1206: ConvergenceWarning: Liblinear failed to converge, increase the number of iterations.\n",
      "  warnings.warn(\n"
     ]
    },
    {
     "name": "stdout",
     "output_type": "stream",
     "text": [
      "Model trained in  48.023242712020874  seconds\n",
      "Train Accuracy:  90.105\n",
      "Test Accuracy:  90.14999999999999\n",
      "Model trained in  60.461726665496826  seconds\n",
      "Train Accuracy:  85.82166666666666\n",
      "Test Accuracy:  85.53\n"
     ]
    },
    {
     "name": "stderr",
     "output_type": "stream",
     "text": [
      "C:\\Users\\nikos\\anaconda3\\lib\\site-packages\\sklearn\\svm\\_base.py:1206: ConvergenceWarning: Liblinear failed to converge, increase the number of iterations.\n",
      "  warnings.warn(\n"
     ]
    }
   ],
   "source": [
    "for C in [0.01, 0.1, 1, 10, 100]:\n",
    "    linear_svm = LinearSVC(loss='hinge',C=C)\n",
    "    start = time.time()\n",
    "    linear_svm.fit(x_train, y_train)\n",
    "    end = time.time()\n",
    "    print('Model trained in ',end-start,' seconds')\n",
    "    print('Train Accuracy: ',linear_svm.score(x_train, y_train)*100)\n",
    "    print('Test Accuracy: ',linear_svm.score(x_test, y_test)*100)"
   ]
  },
  {
   "cell_type": "markdown",
   "id": "f8d428c1",
   "metadata": {},
   "source": [
    "# Kernel Implementation"
   ]
  },
  {
   "cell_type": "code",
   "execution_count": 22,
   "id": "8b6370ab",
   "metadata": {},
   "outputs": [],
   "source": [
    "from sklearn.svm import SVC"
   ]
  },
  {
   "cell_type": "markdown",
   "id": "2071e321",
   "metadata": {},
   "source": [
    "# Linear Kernel"
   ]
  },
  {
   "cell_type": "code",
   "execution_count": 23,
   "id": "ad5e97d2",
   "metadata": {},
   "outputs": [
    {
     "name": "stderr",
     "output_type": "stream",
     "text": [
      "C:\\Users\\nikos\\anaconda3\\lib\\site-packages\\sklearn\\svm\\_base.py:284: ConvergenceWarning: Solver terminated early (max_iter=1000).  Consider pre-processing your data with StandardScaler or MinMaxScaler.\n",
      "  warnings.warn(\n"
     ]
    },
    {
     "name": "stdout",
     "output_type": "stream",
     "text": [
      "Model trained in  64.461496591568  seconds\n",
      "Train Accuracy:  64.63333333333333\n",
      "Test Accuracy:  64.77000000000001\n"
     ]
    },
    {
     "name": "stderr",
     "output_type": "stream",
     "text": [
      "C:\\Users\\nikos\\anaconda3\\lib\\site-packages\\sklearn\\svm\\_base.py:284: ConvergenceWarning: Solver terminated early (max_iter=1000).  Consider pre-processing your data with StandardScaler or MinMaxScaler.\n",
      "  warnings.warn(\n"
     ]
    },
    {
     "name": "stdout",
     "output_type": "stream",
     "text": [
      "Model trained in  59.743441343307495  seconds\n",
      "Train Accuracy:  62.81833333333333\n",
      "Test Accuracy:  62.870000000000005\n"
     ]
    },
    {
     "name": "stderr",
     "output_type": "stream",
     "text": [
      "C:\\Users\\nikos\\anaconda3\\lib\\site-packages\\sklearn\\svm\\_base.py:284: ConvergenceWarning: Solver terminated early (max_iter=1000).  Consider pre-processing your data with StandardScaler or MinMaxScaler.\n",
      "  warnings.warn(\n"
     ]
    },
    {
     "name": "stdout",
     "output_type": "stream",
     "text": [
      "Model trained in  59.93242692947388  seconds\n",
      "Train Accuracy:  72.10499999999999\n",
      "Test Accuracy:  72.1\n"
     ]
    },
    {
     "name": "stderr",
     "output_type": "stream",
     "text": [
      "C:\\Users\\nikos\\anaconda3\\lib\\site-packages\\sklearn\\svm\\_base.py:284: ConvergenceWarning: Solver terminated early (max_iter=1000).  Consider pre-processing your data with StandardScaler or MinMaxScaler.\n",
      "  warnings.warn(\n"
     ]
    },
    {
     "name": "stdout",
     "output_type": "stream",
     "text": [
      "Model trained in  59.71253418922424  seconds\n",
      "Train Accuracy:  72.10499999999999\n",
      "Test Accuracy:  72.1\n"
     ]
    },
    {
     "name": "stderr",
     "output_type": "stream",
     "text": [
      "C:\\Users\\nikos\\anaconda3\\lib\\site-packages\\sklearn\\svm\\_base.py:284: ConvergenceWarning: Solver terminated early (max_iter=1000).  Consider pre-processing your data with StandardScaler or MinMaxScaler.\n",
      "  warnings.warn(\n"
     ]
    },
    {
     "name": "stdout",
     "output_type": "stream",
     "text": [
      "Model trained in  59.87816023826599  seconds\n",
      "Train Accuracy:  72.10499999999999\n",
      "Test Accuracy:  72.1\n"
     ]
    }
   ],
   "source": [
    "for C in [0.01, 0.1, 1, 10, 100]:\n",
    "    svm = SVC(C=C, kernel='linear',max_iter=1000)\n",
    "    start = time.time()\n",
    "    svm.fit(x_train, y_train)\n",
    "    end = time.time()\n",
    "    print('Model trained in ',end-start,' seconds')\n",
    "    print('Train Accuracy: ',svm.score(x_train, y_train)*100)\n",
    "    print('Test Accuracy: ',svm.score(x_test, y_test)*100)"
   ]
  },
  {
   "cell_type": "markdown",
   "id": "01527a92",
   "metadata": {},
   "source": [
    "# Polynomial Kernel with Degree=2"
   ]
  },
  {
   "cell_type": "code",
   "execution_count": 24,
   "id": "226abcbf",
   "metadata": {},
   "outputs": [
    {
     "name": "stderr",
     "output_type": "stream",
     "text": [
      "C:\\Users\\nikos\\anaconda3\\lib\\site-packages\\sklearn\\svm\\_base.py:284: ConvergenceWarning: Solver terminated early (max_iter=1000).  Consider pre-processing your data with StandardScaler or MinMaxScaler.\n",
      "  warnings.warn(\n"
     ]
    },
    {
     "name": "stdout",
     "output_type": "stream",
     "text": [
      "Model trained in  62.66260623931885  seconds\n",
      "Train Accuracy:  53.21666666666667\n",
      "Test Accuracy:  53.559999999999995\n"
     ]
    },
    {
     "name": "stderr",
     "output_type": "stream",
     "text": [
      "C:\\Users\\nikos\\anaconda3\\lib\\site-packages\\sklearn\\svm\\_base.py:284: ConvergenceWarning: Solver terminated early (max_iter=1000).  Consider pre-processing your data with StandardScaler or MinMaxScaler.\n",
      "  warnings.warn(\n"
     ]
    },
    {
     "name": "stdout",
     "output_type": "stream",
     "text": [
      "Model trained in  63.46768879890442  seconds\n",
      "Train Accuracy:  53.30666666666667\n",
      "Test Accuracy:  53.6\n"
     ]
    },
    {
     "name": "stderr",
     "output_type": "stream",
     "text": [
      "C:\\Users\\nikos\\anaconda3\\lib\\site-packages\\sklearn\\svm\\_base.py:284: ConvergenceWarning: Solver terminated early (max_iter=1000).  Consider pre-processing your data with StandardScaler or MinMaxScaler.\n",
      "  warnings.warn(\n"
     ]
    },
    {
     "name": "stdout",
     "output_type": "stream",
     "text": [
      "Model trained in  63.03963088989258  seconds\n",
      "Train Accuracy:  64.17333333333333\n",
      "Test Accuracy:  64.52\n"
     ]
    },
    {
     "name": "stderr",
     "output_type": "stream",
     "text": [
      "C:\\Users\\nikos\\anaconda3\\lib\\site-packages\\sklearn\\svm\\_base.py:284: ConvergenceWarning: Solver terminated early (max_iter=1000).  Consider pre-processing your data with StandardScaler or MinMaxScaler.\n",
      "  warnings.warn(\n"
     ]
    },
    {
     "name": "stdout",
     "output_type": "stream",
     "text": [
      "Model trained in  59.48737645149231  seconds\n",
      "Train Accuracy:  93.32333333333334\n",
      "Test Accuracy:  92.72\n"
     ]
    },
    {
     "name": "stderr",
     "output_type": "stream",
     "text": [
      "C:\\Users\\nikos\\anaconda3\\lib\\site-packages\\sklearn\\svm\\_base.py:284: ConvergenceWarning: Solver terminated early (max_iter=1000).  Consider pre-processing your data with StandardScaler or MinMaxScaler.\n",
      "  warnings.warn(\n"
     ]
    },
    {
     "name": "stdout",
     "output_type": "stream",
     "text": [
      "Model trained in  58.85436654090881  seconds\n",
      "Train Accuracy:  92.41\n",
      "Test Accuracy:  92.15\n"
     ]
    }
   ],
   "source": [
    "for C in [0.01, 0.1, 1, 10, 100]:\n",
    "    svm = SVC(C=C, kernel='poly', degree=2,max_iter=1000)\n",
    "    start = time.time()\n",
    "    svm.fit(x_train, y_train)\n",
    "    end = time.time()\n",
    "    print('Model trained in ',end-start,' seconds')\n",
    "    print('Train Accuracy: ',svm.score(x_train, y_train)*100)\n",
    "    print('Test Accuracy: ',svm.score(x_test, y_test)*100)"
   ]
  },
  {
   "cell_type": "markdown",
   "id": "0bb2602a",
   "metadata": {},
   "source": [
    "# Polynomial Kernel with Degree=3"
   ]
  },
  {
   "cell_type": "code",
   "execution_count": 25,
   "id": "8c750df1",
   "metadata": {},
   "outputs": [
    {
     "name": "stderr",
     "output_type": "stream",
     "text": [
      "C:\\Users\\nikos\\anaconda3\\lib\\site-packages\\sklearn\\svm\\_base.py:284: ConvergenceWarning: Solver terminated early (max_iter=1000).  Consider pre-processing your data with StandardScaler or MinMaxScaler.\n",
      "  warnings.warn(\n"
     ]
    },
    {
     "name": "stdout",
     "output_type": "stream",
     "text": [
      "Model trained in  63.033631324768066  seconds\n",
      "Train Accuracy:  51.888333333333335\n",
      "Test Accuracy:  52.25\n"
     ]
    },
    {
     "name": "stderr",
     "output_type": "stream",
     "text": [
      "C:\\Users\\nikos\\anaconda3\\lib\\site-packages\\sklearn\\svm\\_base.py:284: ConvergenceWarning: Solver terminated early (max_iter=1000).  Consider pre-processing your data with StandardScaler or MinMaxScaler.\n",
      "  warnings.warn(\n"
     ]
    },
    {
     "name": "stdout",
     "output_type": "stream",
     "text": [
      "Model trained in  63.512667655944824  seconds\n",
      "Train Accuracy:  52.30166666666667\n",
      "Test Accuracy:  52.87\n"
     ]
    },
    {
     "name": "stderr",
     "output_type": "stream",
     "text": [
      "C:\\Users\\nikos\\anaconda3\\lib\\site-packages\\sklearn\\svm\\_base.py:284: ConvergenceWarning: Solver terminated early (max_iter=1000).  Consider pre-processing your data with StandardScaler or MinMaxScaler.\n",
      "  warnings.warn(\n"
     ]
    },
    {
     "name": "stdout",
     "output_type": "stream",
     "text": [
      "Model trained in  63.37322282791138  seconds\n",
      "Train Accuracy:  79.295\n",
      "Test Accuracy:  80.01\n"
     ]
    },
    {
     "name": "stderr",
     "output_type": "stream",
     "text": [
      "C:\\Users\\nikos\\anaconda3\\lib\\site-packages\\sklearn\\svm\\_base.py:284: ConvergenceWarning: Solver terminated early (max_iter=1000).  Consider pre-processing your data with StandardScaler or MinMaxScaler.\n",
      "  warnings.warn(\n"
     ]
    },
    {
     "name": "stdout",
     "output_type": "stream",
     "text": [
      "Model trained in  59.87130045890808  seconds\n",
      "Train Accuracy:  97.46000000000001\n",
      "Test Accuracy:  96.17\n"
     ]
    },
    {
     "name": "stderr",
     "output_type": "stream",
     "text": [
      "C:\\Users\\nikos\\anaconda3\\lib\\site-packages\\sklearn\\svm\\_base.py:284: ConvergenceWarning: Solver terminated early (max_iter=1000).  Consider pre-processing your data with StandardScaler or MinMaxScaler.\n",
      "  warnings.warn(\n"
     ]
    },
    {
     "name": "stdout",
     "output_type": "stream",
     "text": [
      "Model trained in  59.07837963104248  seconds\n",
      "Train Accuracy:  98.175\n",
      "Test Accuracy:  96.96000000000001\n"
     ]
    }
   ],
   "source": [
    "for C in [0.01, 0.1, 1, 10, 100]:\n",
    "    svm = SVC(C=C, kernel='poly', degree=3,max_iter=1000)\n",
    "    start = time.time()\n",
    "    svm.fit(x_train, y_train)\n",
    "    end = time.time()\n",
    "    print('Model trained in ',end-start,' seconds')\n",
    "    print('Train Accuracy: ',svm.score(x_train, y_train)*100)\n",
    "    print('Test Accuracy: ',svm.score(x_test, y_test)*100)"
   ]
  },
  {
   "cell_type": "code",
   "execution_count": null,
   "id": "b9e7200e",
   "metadata": {},
   "outputs": [],
   "source": []
  }
 ],
 "metadata": {
  "kernelspec": {
   "display_name": "Python 3 (ipykernel)",
   "language": "python",
   "name": "python3"
  },
  "language_info": {
   "codemirror_mode": {
    "name": "ipython",
    "version": 3
   },
   "file_extension": ".py",
   "mimetype": "text/x-python",
   "name": "python",
   "nbconvert_exporter": "python",
   "pygments_lexer": "ipython3",
   "version": "3.9.13"
  }
 },
 "nbformat": 4,
 "nbformat_minor": 5
}
